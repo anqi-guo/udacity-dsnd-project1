{
  "nbformat": 4,
  "nbformat_minor": 0,
  "metadata": {
    "colab": {
      "name": "listings.ipynb",
      "provenance": [],
      "authorship_tag": "ABX9TyN3vZLp7VWKUELp89GUAXTw",
      "include_colab_link": true
    },
    "kernelspec": {
      "name": "python3",
      "display_name": "Python 3"
    },
    "language_info": {
      "name": "python"
    }
  },
  "cells": [
    {
      "cell_type": "markdown",
      "metadata": {
        "id": "view-in-github",
        "colab_type": "text"
      },
      "source": [
        "<a href=\"https://colab.research.google.com/github/anqi-guo/udacity-dsnd-blog-post/blob/main/listings.ipynb\" target=\"_parent\"><img src=\"https://colab.research.google.com/assets/colab-badge.svg\" alt=\"Open In Colab\"/></a>"
      ]
    },
    {
      "cell_type": "code",
      "source": [
        "from google.colab import drive\n",
        "drive.mount('/content/drive')\n",
        "DATA_PATH = '/content/drive/My Drive/study/DSND/airbnb'"
      ],
      "metadata": {
        "colab": {
          "base_uri": "https://localhost:8080/"
        },
        "id": "axkxILTZn9_t",
        "outputId": "1dee06c4-e930-41ef-d2b9-f8622a1b13ee"
      },
      "execution_count": 1,
      "outputs": [
        {
          "output_type": "stream",
          "name": "stdout",
          "text": [
            "Mounted at /content/drive\n"
          ]
        }
      ]
    },
    {
      "cell_type": "code",
      "execution_count": 2,
      "metadata": {
        "id": "nH8E9vLtn2Hd",
        "colab": {
          "base_uri": "https://localhost:8080/"
        },
        "outputId": "be65e4e2-61ec-4ebb-c3cb-970268fc82d8"
      },
      "outputs": [
        {
          "output_type": "stream",
          "name": "stderr",
          "text": [
            "/usr/local/lib/python3.7/dist-packages/IPython/core/interactiveshell.py:2882: DtypeWarning: Columns (17) have mixed types.Specify dtype option on import or set low_memory=False.\n",
            "  exec(code_obj, self.user_global_ns, self.user_ns)\n"
          ]
        }
      ],
      "source": [
        "import pandas as pd\n",
        "df_ny = pd.read_csv(f'{DATA_PATH}/data/listings-202112.csv')\n",
        "df_sh = pd.read_csv(f'{DATA_PATH}/data/listings-202112-sh.csv')\n",
        "\n",
        "df_dict = {'ny':df_ny, 'sh':df_sh}"
      ]
    },
    {
      "cell_type": "code",
      "source": [
        "df_dict['ny'].shape, df_dict['sh'].shape"
      ],
      "metadata": {
        "colab": {
          "base_uri": "https://localhost:8080/"
        },
        "id": "pq_VFj6EPK-U",
        "outputId": "9945516b-0d7a-4bf5-ea7e-1a4bee525d44"
      },
      "execution_count": 3,
      "outputs": [
        {
          "output_type": "execute_result",
          "data": {
            "text/plain": [
              "((38277, 18), (29165, 18))"
            ]
          },
          "metadata": {},
          "execution_count": 3
        }
      ]
    },
    {
      "cell_type": "code",
      "source": [
        "df_dict['ny'].head()"
      ],
      "metadata": {
        "colab": {
          "base_uri": "https://localhost:8080/",
          "height": 422
        },
        "id": "Jxyx4Ix8PPMP",
        "outputId": "2c1536a0-213b-462c-de42-df82c107a5f6"
      },
      "execution_count": 4,
      "outputs": [
        {
          "output_type": "execute_result",
          "data": {
            "text/plain": [
              "     id                                               name  host_id  \\\n",
              "0  2595                              Skylit Midtown Castle     2845   \n",
              "1  3831  Whole flr w/private bdrm, bath & kitchen(pls r...     4869   \n",
              "2  5121                                    BlissArtsSpace!     7356   \n",
              "3  5136           Spacious Brooklyn Duplex, Patio + Garden     7378   \n",
              "4  5178                   Large Furnished Room Near B'way　     8967   \n",
              "\n",
              "     host_name neighbourhood_group       neighbourhood  latitude  longitude  \\\n",
              "0     Jennifer           Manhattan             Midtown  40.75356  -73.98559   \n",
              "1  LisaRoxanne            Brooklyn  Bedford-Stuyvesant  40.68494  -73.95765   \n",
              "2        Garon            Brooklyn  Bedford-Stuyvesant  40.68535  -73.95512   \n",
              "3      Rebecca            Brooklyn         Sunset Park  40.66265  -73.99454   \n",
              "4     Shunichi           Manhattan             Midtown  40.76457  -73.98317   \n",
              "\n",
              "         room_type  price  minimum_nights  number_of_reviews last_review  \\\n",
              "0  Entire home/apt    150              30                 48  2019-11-04   \n",
              "1  Entire home/apt     75               1                409  2021-10-22   \n",
              "2     Private room     60              30                 50  2016-06-05   \n",
              "3  Entire home/apt    275               5                  2  2021-08-08   \n",
              "4     Private room     68               2                507  2021-11-08   \n",
              "\n",
              "   reviews_per_month  calculated_host_listings_count  availability_365  \\\n",
              "0               0.33                               3               338   \n",
              "1               4.86                               1               194   \n",
              "2               0.52                               2               365   \n",
              "3               0.02                               1               123   \n",
              "4               3.68                               1               192   \n",
              "\n",
              "   number_of_reviews_ltm license  \n",
              "0                      0     NaN  \n",
              "1                     32     NaN  \n",
              "2                      0     NaN  \n",
              "3                      1     NaN  \n",
              "4                     33     NaN  "
            ],
            "text/html": [
              "\n",
              "  <div id=\"df-c9735aca-e59b-42f2-ba43-580c87763d7f\">\n",
              "    <div class=\"colab-df-container\">\n",
              "      <div>\n",
              "<style scoped>\n",
              "    .dataframe tbody tr th:only-of-type {\n",
              "        vertical-align: middle;\n",
              "    }\n",
              "\n",
              "    .dataframe tbody tr th {\n",
              "        vertical-align: top;\n",
              "    }\n",
              "\n",
              "    .dataframe thead th {\n",
              "        text-align: right;\n",
              "    }\n",
              "</style>\n",
              "<table border=\"1\" class=\"dataframe\">\n",
              "  <thead>\n",
              "    <tr style=\"text-align: right;\">\n",
              "      <th></th>\n",
              "      <th>id</th>\n",
              "      <th>name</th>\n",
              "      <th>host_id</th>\n",
              "      <th>host_name</th>\n",
              "      <th>neighbourhood_group</th>\n",
              "      <th>neighbourhood</th>\n",
              "      <th>latitude</th>\n",
              "      <th>longitude</th>\n",
              "      <th>room_type</th>\n",
              "      <th>price</th>\n",
              "      <th>minimum_nights</th>\n",
              "      <th>number_of_reviews</th>\n",
              "      <th>last_review</th>\n",
              "      <th>reviews_per_month</th>\n",
              "      <th>calculated_host_listings_count</th>\n",
              "      <th>availability_365</th>\n",
              "      <th>number_of_reviews_ltm</th>\n",
              "      <th>license</th>\n",
              "    </tr>\n",
              "  </thead>\n",
              "  <tbody>\n",
              "    <tr>\n",
              "      <th>0</th>\n",
              "      <td>2595</td>\n",
              "      <td>Skylit Midtown Castle</td>\n",
              "      <td>2845</td>\n",
              "      <td>Jennifer</td>\n",
              "      <td>Manhattan</td>\n",
              "      <td>Midtown</td>\n",
              "      <td>40.75356</td>\n",
              "      <td>-73.98559</td>\n",
              "      <td>Entire home/apt</td>\n",
              "      <td>150</td>\n",
              "      <td>30</td>\n",
              "      <td>48</td>\n",
              "      <td>2019-11-04</td>\n",
              "      <td>0.33</td>\n",
              "      <td>3</td>\n",
              "      <td>338</td>\n",
              "      <td>0</td>\n",
              "      <td>NaN</td>\n",
              "    </tr>\n",
              "    <tr>\n",
              "      <th>1</th>\n",
              "      <td>3831</td>\n",
              "      <td>Whole flr w/private bdrm, bath &amp; kitchen(pls r...</td>\n",
              "      <td>4869</td>\n",
              "      <td>LisaRoxanne</td>\n",
              "      <td>Brooklyn</td>\n",
              "      <td>Bedford-Stuyvesant</td>\n",
              "      <td>40.68494</td>\n",
              "      <td>-73.95765</td>\n",
              "      <td>Entire home/apt</td>\n",
              "      <td>75</td>\n",
              "      <td>1</td>\n",
              "      <td>409</td>\n",
              "      <td>2021-10-22</td>\n",
              "      <td>4.86</td>\n",
              "      <td>1</td>\n",
              "      <td>194</td>\n",
              "      <td>32</td>\n",
              "      <td>NaN</td>\n",
              "    </tr>\n",
              "    <tr>\n",
              "      <th>2</th>\n",
              "      <td>5121</td>\n",
              "      <td>BlissArtsSpace!</td>\n",
              "      <td>7356</td>\n",
              "      <td>Garon</td>\n",
              "      <td>Brooklyn</td>\n",
              "      <td>Bedford-Stuyvesant</td>\n",
              "      <td>40.68535</td>\n",
              "      <td>-73.95512</td>\n",
              "      <td>Private room</td>\n",
              "      <td>60</td>\n",
              "      <td>30</td>\n",
              "      <td>50</td>\n",
              "      <td>2016-06-05</td>\n",
              "      <td>0.52</td>\n",
              "      <td>2</td>\n",
              "      <td>365</td>\n",
              "      <td>0</td>\n",
              "      <td>NaN</td>\n",
              "    </tr>\n",
              "    <tr>\n",
              "      <th>3</th>\n",
              "      <td>5136</td>\n",
              "      <td>Spacious Brooklyn Duplex, Patio + Garden</td>\n",
              "      <td>7378</td>\n",
              "      <td>Rebecca</td>\n",
              "      <td>Brooklyn</td>\n",
              "      <td>Sunset Park</td>\n",
              "      <td>40.66265</td>\n",
              "      <td>-73.99454</td>\n",
              "      <td>Entire home/apt</td>\n",
              "      <td>275</td>\n",
              "      <td>5</td>\n",
              "      <td>2</td>\n",
              "      <td>2021-08-08</td>\n",
              "      <td>0.02</td>\n",
              "      <td>1</td>\n",
              "      <td>123</td>\n",
              "      <td>1</td>\n",
              "      <td>NaN</td>\n",
              "    </tr>\n",
              "    <tr>\n",
              "      <th>4</th>\n",
              "      <td>5178</td>\n",
              "      <td>Large Furnished Room Near B'way</td>\n",
              "      <td>8967</td>\n",
              "      <td>Shunichi</td>\n",
              "      <td>Manhattan</td>\n",
              "      <td>Midtown</td>\n",
              "      <td>40.76457</td>\n",
              "      <td>-73.98317</td>\n",
              "      <td>Private room</td>\n",
              "      <td>68</td>\n",
              "      <td>2</td>\n",
              "      <td>507</td>\n",
              "      <td>2021-11-08</td>\n",
              "      <td>3.68</td>\n",
              "      <td>1</td>\n",
              "      <td>192</td>\n",
              "      <td>33</td>\n",
              "      <td>NaN</td>\n",
              "    </tr>\n",
              "  </tbody>\n",
              "</table>\n",
              "</div>\n",
              "      <button class=\"colab-df-convert\" onclick=\"convertToInteractive('df-c9735aca-e59b-42f2-ba43-580c87763d7f')\"\n",
              "              title=\"Convert this dataframe to an interactive table.\"\n",
              "              style=\"display:none;\">\n",
              "        \n",
              "  <svg xmlns=\"http://www.w3.org/2000/svg\" height=\"24px\"viewBox=\"0 0 24 24\"\n",
              "       width=\"24px\">\n",
              "    <path d=\"M0 0h24v24H0V0z\" fill=\"none\"/>\n",
              "    <path d=\"M18.56 5.44l.94 2.06.94-2.06 2.06-.94-2.06-.94-.94-2.06-.94 2.06-2.06.94zm-11 1L8.5 8.5l.94-2.06 2.06-.94-2.06-.94L8.5 2.5l-.94 2.06-2.06.94zm10 10l.94 2.06.94-2.06 2.06-.94-2.06-.94-.94-2.06-.94 2.06-2.06.94z\"/><path d=\"M17.41 7.96l-1.37-1.37c-.4-.4-.92-.59-1.43-.59-.52 0-1.04.2-1.43.59L10.3 9.45l-7.72 7.72c-.78.78-.78 2.05 0 2.83L4 21.41c.39.39.9.59 1.41.59.51 0 1.02-.2 1.41-.59l7.78-7.78 2.81-2.81c.8-.78.8-2.07 0-2.86zM5.41 20L4 18.59l7.72-7.72 1.47 1.35L5.41 20z\"/>\n",
              "  </svg>\n",
              "      </button>\n",
              "      \n",
              "  <style>\n",
              "    .colab-df-container {\n",
              "      display:flex;\n",
              "      flex-wrap:wrap;\n",
              "      gap: 12px;\n",
              "    }\n",
              "\n",
              "    .colab-df-convert {\n",
              "      background-color: #E8F0FE;\n",
              "      border: none;\n",
              "      border-radius: 50%;\n",
              "      cursor: pointer;\n",
              "      display: none;\n",
              "      fill: #1967D2;\n",
              "      height: 32px;\n",
              "      padding: 0 0 0 0;\n",
              "      width: 32px;\n",
              "    }\n",
              "\n",
              "    .colab-df-convert:hover {\n",
              "      background-color: #E2EBFA;\n",
              "      box-shadow: 0px 1px 2px rgba(60, 64, 67, 0.3), 0px 1px 3px 1px rgba(60, 64, 67, 0.15);\n",
              "      fill: #174EA6;\n",
              "    }\n",
              "\n",
              "    [theme=dark] .colab-df-convert {\n",
              "      background-color: #3B4455;\n",
              "      fill: #D2E3FC;\n",
              "    }\n",
              "\n",
              "    [theme=dark] .colab-df-convert:hover {\n",
              "      background-color: #434B5C;\n",
              "      box-shadow: 0px 1px 3px 1px rgba(0, 0, 0, 0.15);\n",
              "      filter: drop-shadow(0px 1px 2px rgba(0, 0, 0, 0.3));\n",
              "      fill: #FFFFFF;\n",
              "    }\n",
              "  </style>\n",
              "\n",
              "      <script>\n",
              "        const buttonEl =\n",
              "          document.querySelector('#df-c9735aca-e59b-42f2-ba43-580c87763d7f button.colab-df-convert');\n",
              "        buttonEl.style.display =\n",
              "          google.colab.kernel.accessAllowed ? 'block' : 'none';\n",
              "\n",
              "        async function convertToInteractive(key) {\n",
              "          const element = document.querySelector('#df-c9735aca-e59b-42f2-ba43-580c87763d7f');\n",
              "          const dataTable =\n",
              "            await google.colab.kernel.invokeFunction('convertToInteractive',\n",
              "                                                     [key], {});\n",
              "          if (!dataTable) return;\n",
              "\n",
              "          const docLinkHtml = 'Like what you see? Visit the ' +\n",
              "            '<a target=\"_blank\" href=https://colab.research.google.com/notebooks/data_table.ipynb>data table notebook</a>'\n",
              "            + ' to learn more about interactive tables.';\n",
              "          element.innerHTML = '';\n",
              "          dataTable['output_type'] = 'display_data';\n",
              "          await google.colab.output.renderOutput(dataTable, element);\n",
              "          const docLink = document.createElement('div');\n",
              "          docLink.innerHTML = docLinkHtml;\n",
              "          element.appendChild(docLink);\n",
              "        }\n",
              "      </script>\n",
              "    </div>\n",
              "  </div>\n",
              "  "
            ]
          },
          "metadata": {},
          "execution_count": 4
        }
      ]
    },
    {
      "cell_type": "code",
      "source": [
        "df_dict['ny'].dtypes"
      ],
      "metadata": {
        "colab": {
          "base_uri": "https://localhost:8080/"
        },
        "id": "IEJ756OWPTnO",
        "outputId": "29283ffc-74e7-48f4-9e42-7c7de83b2067"
      },
      "execution_count": 5,
      "outputs": [
        {
          "output_type": "execute_result",
          "data": {
            "text/plain": [
              "id                                  int64\n",
              "name                               object\n",
              "host_id                             int64\n",
              "host_name                          object\n",
              "neighbourhood_group                object\n",
              "neighbourhood                      object\n",
              "latitude                          float64\n",
              "longitude                         float64\n",
              "room_type                          object\n",
              "price                               int64\n",
              "minimum_nights                      int64\n",
              "number_of_reviews                   int64\n",
              "last_review                        object\n",
              "reviews_per_month                 float64\n",
              "calculated_host_listings_count      int64\n",
              "availability_365                    int64\n",
              "number_of_reviews_ltm               int64\n",
              "license                            object\n",
              "dtype: object"
            ]
          },
          "metadata": {},
          "execution_count": 5
        }
      ]
    },
    {
      "cell_type": "code",
      "source": [
        "df_dict['ny']['id'].nunique(), df_dict['sh']['id'].nunique()"
      ],
      "metadata": {
        "colab": {
          "base_uri": "https://localhost:8080/"
        },
        "id": "z2C6qdHbPajB",
        "outputId": "04df08fc-3249-417c-f32f-54b38f3dd2e4"
      },
      "execution_count": 7,
      "outputs": [
        {
          "output_type": "execute_result",
          "data": {
            "text/plain": [
              "(38277, 29165)"
            ]
          },
          "metadata": {},
          "execution_count": 7
        }
      ]
    },
    {
      "cell_type": "code",
      "source": [
        "# unify currency to us dollar\n",
        "df_dict['sh']['price'] = df_dict['sh']['price'] * .15"
      ],
      "metadata": {
        "id": "RWaGGotMuVsJ"
      },
      "execution_count": 84,
      "outputs": []
    },
    {
      "cell_type": "markdown",
      "source": [
        "# Price distributions"
      ],
      "metadata": {
        "id": "fzbbt0bytf9S"
      }
    },
    {
      "cell_type": "code",
      "source": [
        "df_list = []\n",
        "for city, df in df_dict.items():\n",
        "  df['city'] = city\n",
        "  df_list.append(df)\n",
        "\n",
        "big_df = pd.concat(df_list)\n",
        "\n",
        "sns.boxenplot(data=big_df, y='city', x='price');"
      ],
      "metadata": {
        "colab": {
          "base_uri": "https://localhost:8080/",
          "height": 339
        },
        "id": "-snYH8g2teMH",
        "outputId": "48b50490-c7ed-4ebd-f7be-cf3dad81bd0d"
      },
      "execution_count": 85,
      "outputs": [
        {
          "output_type": "display_data",
          "data": {
            "text/plain": [
              "<Figure size 2160x360 with 1 Axes>"
            ],
            "image/png": "[encoded data removed]"
          },
          "metadata": {}
        }
      ]
    },
    {
      "cell_type": "code",
      "source": [
        "big_df2 = big_df.query('price < 1000')\n",
        "sns.boxenplot(data=big_df2, y='city', x='price');"
      ],
      "metadata": {
        "colab": {
          "base_uri": "https://localhost:8080/",
          "height": 339
        },
        "id": "elDopyF4unYt",
        "outputId": "495f8580-b989-4a04-a297-5415f67d7bf8"
      },
      "execution_count": 90,
      "outputs": [
        {
          "output_type": "display_data",
          "data": {
            "text/plain": [
              "<Figure size 2160x360 with 1 Axes>"
            ],
            "image/png": "[encoded data removed]"
          },
          "metadata": {}
        }
      ]
    },
    {
      "cell_type": "markdown",
      "source": [
        "Generally, price of listings in New York City is higher than that in Shanghai. The median price in New York City is slightly above 100 dollars, where as the median price in Shanghai is slightly above 50 dollars."
      ],
      "metadata": {
        "id": "nEUv-3srwoph"
      }
    },
    {
      "cell_type": "markdown",
      "source": [
        "# Which neighbourhood have most rooms?"
      ],
      "metadata": {
        "id": "2Vshk_DEmu5E"
      }
    },
    {
      "cell_type": "code",
      "source": [
        "df_dict['ny']['neighbourhood_group'].value_counts(normalize=True)"
      ],
      "metadata": {
        "colab": {
          "base_uri": "https://localhost:8080/"
        },
        "id": "rrhJKO2Smukg",
        "outputId": "a7e00d4f-6652-4c3e-af46-a227b700cb7b"
      },
      "execution_count": 56,
      "outputs": [
        {
          "output_type": "execute_result",
          "data": {
            "text/plain": [
              "Manhattan        0.438409\n",
              "Brooklyn         0.384461\n",
              "Queens           0.139065\n",
              "Bronx            0.028842\n",
              "Staten Island    0.009222\n",
              "Name: neighbourhood_group, dtype: float64"
            ]
          },
          "metadata": {},
          "execution_count": 56
        }
      ]
    },
    {
      "cell_type": "code",
      "source": [
        "df_dict['sh']['neighbourhood'].value_counts(normalize=True)"
      ],
      "metadata": {
        "colab": {
          "base_uri": "https://localhost:8080/"
        },
        "id": "vujwOHz5muJq",
        "outputId": "a95a7662-2a7c-4d8b-c6b8-453147b0f03c"
      },
      "execution_count": 59,
      "outputs": [
        {
          "output_type": "execute_result",
          "data": {
            "text/plain": [
              "浦东新区 / Pudong               0.380045\n",
              "黄浦区 / Huangpu District      0.112121\n",
              "徐汇区 / Xuhui District        0.086028\n",
              "崇明区 / Chongming District    0.066450\n",
              "静安区 / Jing'an District      0.059558\n",
              "闵行区 / Minhang District      0.052632\n",
              "青浦区 / Qingpu District       0.043271\n",
              "松江区 / Songjiang District    0.041385\n",
              "长宁区 / Changning District    0.029727\n",
              "嘉定区 / Jiading District      0.027190\n",
              "虹口区 / Hongkou District      0.024550\n",
              "杨浦区 / Yangpu District       0.023727\n",
              "宝山区 / Baoshan District      0.020195\n",
              "普陀区 / Putuo District        0.016492\n",
              "奉贤区 / Fengxian District     0.010629\n",
              "金山区 / Jinshan District      0.006000\n",
              "Name: neighbourhood, dtype: float64"
            ]
          },
          "metadata": {},
          "execution_count": 59
        }
      ]
    },
    {
      "cell_type": "markdown",
      "source": [
        "Most rooms in New York city are located in Manhattan, and most rooms in Shanghai are located in Pudong District. In my opinion, it is because Manhattan is the center of New York city, both for traveling and business, whereas Pudong district is large in area as well as the most populous district in Shanghai."
      ],
      "metadata": {
        "id": "rREWBSeCnUR1"
      }
    },
    {
      "cell_type": "markdown",
      "source": [
        "# Median Price in each district"
      ],
      "metadata": {
        "id": "lfD4XpoPpHeN"
      }
    },
    {
      "cell_type": "code",
      "source": [
        "df_dict['ny'].groupby('neighbourhood_group')['price'].median().sort_values(ascending=False)"
      ],
      "metadata": {
        "colab": {
          "base_uri": "https://localhost:8080/"
        },
        "id": "CTEvP1-WpHDA",
        "outputId": "fbbd5f5e-8ef0-4698-e11f-42a4ea88fe53"
      },
      "execution_count": 70,
      "outputs": [
        {
          "output_type": "execute_result",
          "data": {
            "text/plain": [
              "neighbourhood_group\n",
              "Manhattan        150.0\n",
              "Brooklyn          99.0\n",
              "Staten Island     88.0\n",
              "Queens            77.0\n",
              "Bronx             75.0\n",
              "Name: price, dtype: float64"
            ]
          },
          "metadata": {},
          "execution_count": 70
        }
      ]
    },
    {
      "cell_type": "code",
      "source": [
        "df_dict['sh'].groupby('neighbourhood')['price'].median().sort_values(ascending=False)"
      ],
      "metadata": {
        "colab": {
          "base_uri": "https://localhost:8080/"
        },
        "id": "qqFUhBpjpQ2l",
        "outputId": "cc085986-97ee-4f44-a2e3-8344352aed5c"
      },
      "execution_count": 71,
      "outputs": [
        {
          "output_type": "execute_result",
          "data": {
            "text/plain": [
              "neighbourhood\n",
              "崇明区 / Chongming District    785.0\n",
              "青浦区 / Qingpu District       472.5\n",
              "黄浦区 / Huangpu District      468.0\n",
              "金山区 / Jinshan District      449.0\n",
              "徐汇区 / Xuhui District        445.0\n",
              "浦东新区 / Pudong               370.0\n",
              "静安区 / Jing'an District      361.0\n",
              "长宁区 / Changning District    357.0\n",
              "虹口区 / Hongkou District      349.5\n",
              "杨浦区 / Yangpu District       305.0\n",
              "普陀区 / Putuo District        302.0\n",
              "松江区 / Songjiang District    288.0\n",
              "闵行区 / Minhang District      280.0\n",
              "奉贤区 / Fengxian District     279.0\n",
              "嘉定区 / Jiading District      268.0\n",
              "宝山区 / Baoshan District      242.0\n",
              "Name: price, dtype: float64"
            ]
          },
          "metadata": {},
          "execution_count": 71
        }
      ]
    },
    {
      "cell_type": "markdown",
      "source": [
        "Not surprisingly, rooms in Manhattan are the most expensive ones. However, average price of rooms in Chongming District is highest in Shanghai, and I guess it is because the most of the rooms in Chongming District are villas."
      ],
      "metadata": {
        "id": "icBIcI8DpZKY"
      }
    },
    {
      "cell_type": "code",
      "source": [
        "data = df_dict['sh'][df_dict['sh']['neighbourhood'].str.contains(\"崇明区\")]\n",
        "data.shape"
      ],
      "metadata": {
        "colab": {
          "base_uri": "https://localhost:8080/"
        },
        "id": "1V2ysVP0qKEm",
        "outputId": "94748308-6286-44a6-bae9-12288a626439"
      },
      "execution_count": 66,
      "outputs": [
        {
          "output_type": "execute_result",
          "data": {
            "text/plain": [
              "(1938, 18)"
            ]
          },
          "metadata": {},
          "execution_count": 66
        }
      ]
    },
    {
      "cell_type": "code",
      "source": [
        "data.sort_values(by='price', inplace=True)\n",
        "data[['name','price']].tail(10)"
      ],
      "metadata": {
        "colab": {
          "base_uri": "https://localhost:8080/",
          "height": 444
        },
        "id": "_wnaH2fwrK6U",
        "outputId": "9874c830-1361-4216-f681-d63212cfb24d"
      },
      "execution_count": 81,
      "outputs": [
        {
          "output_type": "stream",
          "name": "stderr",
          "text": [
            "/usr/local/lib/python3.7/dist-packages/pandas/util/_decorators.py:311: SettingWithCopyWarning: \n",
            "A value is trying to be set on a copy of a slice from a DataFrame\n",
            "\n",
            "See the caveats in the documentation: https://pandas.pydata.org/pandas-docs/stable/user_guide/indexing.html#returning-a-view-versus-a-copy\n",
            "  return func(*args, **kwargs)\n"
          ]
        },
        {
          "output_type": "execute_result",
          "data": {
            "text/plain": [
              "                                                    name  price\n",
              "4192                                        16-28人团建最佳选择  10200\n",
              "8522          【久居·崇明】整套\\民宿自驾游距上海1小时候\\划船垂钓采摘烧烤电影酒吧KTV麻将棋牌  10357\n",
              "27792             【花筑】崇明岛森林公园|长兴岛|近花博会|包栋|明珠湖|烧烤|带娃爱住|整栋  10389\n",
              "28581  崇宿.怡居黄公馆/崇明岛/东平森林公园/景区半价游/亲子游/棋牌ktv/整栋花园11室（免费早餐）  10464\n",
              "20004                        悦漫花居花园民宿 （近万达、西沙湿地、森林公园花博会）  11856\n",
              "20046                崇明岛独立入口水景三人间或双人间,可提供餐饮服务,可接待40人以上团队  12000\n",
              "5589                                               追梦人客栈  12000\n",
              "22137                                           香榭璞苑日式民宿  13429\n",
              "15171       【上海隐墅-观云悦舍别墅】崇明独栋豪华别墅/1080平轰趴别墅/棋牌/烧烤/KTV/钓鱼  17602\n",
              "9879                                                简约居室  39800"
            ],
            "text/html": [
              "\n",
              "  <div id=\"df-911833f0-d84d-4257-b9cb-529d9048bc67\">\n",
              "    <div class=\"colab-df-container\">\n",
              "      <div>\n",
              "<style scoped>\n",
              "    .dataframe tbody tr th:only-of-type {\n",
              "        vertical-align: middle;\n",
              "    }\n",
              "\n",
              "    .dataframe tbody tr th {\n",
              "        vertical-align: top;\n",
              "    }\n",
              "\n",
              "    .dataframe thead th {\n",
              "        text-align: right;\n",
              "    }\n",
              "</style>\n",
              "<table border=\"1\" class=\"dataframe\">\n",
              "  <thead>\n",
              "    <tr style=\"text-align: right;\">\n",
              "      <th></th>\n",
              "      <th>name</th>\n",
              "      <th>price</th>\n",
              "    </tr>\n",
              "  </thead>\n",
              "  <tbody>\n",
              "    <tr>\n",
              "      <th>4192</th>\n",
              "      <td>16-28人团建最佳选择</td>\n",
              "      <td>10200</td>\n",
              "    </tr>\n",
              "    <tr>\n",
              "      <th>8522</th>\n",
              "      <td>【久居·崇明】整套\\民宿自驾游距上海1小时候\\划船垂钓采摘烧烤电影酒吧KTV麻将棋牌</td>\n",
              "      <td>10357</td>\n",
              "    </tr>\n",
              "    <tr>\n",
              "      <th>27792</th>\n",
              "      <td>【花筑】崇明岛森林公园|长兴岛|近花博会|包栋|明珠湖|烧烤|带娃爱住|整栋</td>\n",
              "      <td>10389</td>\n",
              "    </tr>\n",
              "    <tr>\n",
              "      <th>28581</th>\n",
              "      <td>崇宿.怡居黄公馆/崇明岛/东平森林公园/景区半价游/亲子游/棋牌ktv/整栋花园11室（免费早餐）</td>\n",
              "      <td>10464</td>\n",
              "    </tr>\n",
              "    <tr>\n",
              "      <th>20004</th>\n",
              "      <td>悦漫花居花园民宿 （近万达、西沙湿地、森林公园花博会）</td>\n",
              "      <td>11856</td>\n",
              "    </tr>\n",
              "    <tr>\n",
              "      <th>20046</th>\n",
              "      <td>崇明岛独立入口水景三人间或双人间,可提供餐饮服务,可接待40人以上团队</td>\n",
              "      <td>12000</td>\n",
              "    </tr>\n",
              "    <tr>\n",
              "      <th>5589</th>\n",
              "      <td>追梦人客栈</td>\n",
              "      <td>12000</td>\n",
              "    </tr>\n",
              "    <tr>\n",
              "      <th>22137</th>\n",
              "      <td>香榭璞苑日式民宿</td>\n",
              "      <td>13429</td>\n",
              "    </tr>\n",
              "    <tr>\n",
              "      <th>15171</th>\n",
              "      <td>【上海隐墅-观云悦舍别墅】崇明独栋豪华别墅/1080平轰趴别墅/棋牌/烧烤/KTV/钓鱼</td>\n",
              "      <td>17602</td>\n",
              "    </tr>\n",
              "    <tr>\n",
              "      <th>9879</th>\n",
              "      <td>简约居室</td>\n",
              "      <td>39800</td>\n",
              "    </tr>\n",
              "  </tbody>\n",
              "</table>\n",
              "</div>\n",
              "      <button class=\"colab-df-convert\" onclick=\"convertToInteractive('df-911833f0-d84d-4257-b9cb-529d9048bc67')\"\n",
              "              title=\"Convert this dataframe to an interactive table.\"\n",
              "              style=\"display:none;\">\n",
              "        \n",
              "  <svg xmlns=\"http://www.w3.org/2000/svg\" height=\"24px\"viewBox=\"0 0 24 24\"\n",
              "       width=\"24px\">\n",
              "    <path d=\"M0 0h24v24H0V0z\" fill=\"none\"/>\n",
              "    <path d=\"M18.56 5.44l.94 2.06.94-2.06 2.06-.94-2.06-.94-.94-2.06-.94 2.06-2.06.94zm-11 1L8.5 8.5l.94-2.06 2.06-.94-2.06-.94L8.5 2.5l-.94 2.06-2.06.94zm10 10l.94 2.06.94-2.06 2.06-.94-2.06-.94-.94-2.06-.94 2.06-2.06.94z\"/><path d=\"M17.41 7.96l-1.37-1.37c-.4-.4-.92-.59-1.43-.59-.52 0-1.04.2-1.43.59L10.3 9.45l-7.72 7.72c-.78.78-.78 2.05 0 2.83L4 21.41c.39.39.9.59 1.41.59.51 0 1.02-.2 1.41-.59l7.78-7.78 2.81-2.81c.8-.78.8-2.07 0-2.86zM5.41 20L4 18.59l7.72-7.72 1.47 1.35L5.41 20z\"/>\n",
              "  </svg>\n",
              "      </button>\n",
              "      \n",
              "  <style>\n",
              "    .colab-df-container {\n",
              "      display:flex;\n",
              "      flex-wrap:wrap;\n",
              "      gap: 12px;\n",
              "    }\n",
              "\n",
              "    .colab-df-convert {\n",
              "      background-color: #E8F0FE;\n",
              "      border: none;\n",
              "      border-radius: 50%;\n",
              "      cursor: pointer;\n",
              "      display: none;\n",
              "      fill: #1967D2;\n",
              "      height: 32px;\n",
              "      padding: 0 0 0 0;\n",
              "      width: 32px;\n",
              "    }\n",
              "\n",
              "    .colab-df-convert:hover {\n",
              "      background-color: #E2EBFA;\n",
              "      box-shadow: 0px 1px 2px rgba(60, 64, 67, 0.3), 0px 1px 3px 1px rgba(60, 64, 67, 0.15);\n",
              "      fill: #174EA6;\n",
              "    }\n",
              "\n",
              "    [theme=dark] .colab-df-convert {\n",
              "      background-color: #3B4455;\n",
              "      fill: #D2E3FC;\n",
              "    }\n",
              "\n",
              "    [theme=dark] .colab-df-convert:hover {\n",
              "      background-color: #434B5C;\n",
              "      box-shadow: 0px 1px 3px 1px rgba(0, 0, 0, 0.15);\n",
              "      filter: drop-shadow(0px 1px 2px rgba(0, 0, 0, 0.3));\n",
              "      fill: #FFFFFF;\n",
              "    }\n",
              "  </style>\n",
              "\n",
              "      <script>\n",
              "        const buttonEl =\n",
              "          document.querySelector('#df-911833f0-d84d-4257-b9cb-529d9048bc67 button.colab-df-convert');\n",
              "        buttonEl.style.display =\n",
              "          google.colab.kernel.accessAllowed ? 'block' : 'none';\n",
              "\n",
              "        async function convertToInteractive(key) {\n",
              "          const element = document.querySelector('#df-911833f0-d84d-4257-b9cb-529d9048bc67');\n",
              "          const dataTable =\n",
              "            await google.colab.kernel.invokeFunction('convertToInteractive',\n",
              "                                                     [key], {});\n",
              "          if (!dataTable) return;\n",
              "\n",
              "          const docLinkHtml = 'Like what you see? Visit the ' +\n",
              "            '<a target=\"_blank\" href=https://colab.research.google.com/notebooks/data_table.ipynb>data table notebook</a>'\n",
              "            + ' to learn more about interactive tables.';\n",
              "          element.innerHTML = '';\n",
              "          dataTable['output_type'] = 'display_data';\n",
              "          await google.colab.output.renderOutput(dataTable, element);\n",
              "          const docLink = document.createElement('div');\n",
              "          docLink.innerHTML = docLinkHtml;\n",
              "          element.appendChild(docLink);\n",
              "        }\n",
              "      </script>\n",
              "    </div>\n",
              "  </div>\n",
              "  "
            ]
          },
          "metadata": {},
          "execution_count": 81
        }
      ]
    },
    {
      "cell_type": "markdown",
      "source": [
        "By the name we can see that listings with highest price in Chongming District are primarily villas, some can even accomodate more than 40 people."
      ],
      "metadata": {
        "id": "wsmArwPrsG2-"
      }
    },
    {
      "cell_type": "markdown",
      "source": [
        "# How many rooms does each host have?"
      ],
      "metadata": {
        "id": "HTS2zjjrQA6r"
      }
    },
    {
      "cell_type": "code",
      "source": [
        "import seaborn as sns\n",
        "\n",
        "rooms_cnt_list = []\n",
        "for city, df in df_dict.items():\n",
        "  g = df['host_id'].value_counts().to_frame('rooms_cnt')\n",
        "  g['city'] = city\n",
        "  rooms_cnt_list.append(g)\n",
        "\n",
        "big_df = pd.concat(rooms_cnt_list, ignore_index=True)\n",
        "\n",
        "sns.set(rc={'figure.figsize':(30,5)}, style=\"white\", palette=\"Set2\")\n",
        "sns.boxplot(data=big_df, x='rooms_cnt', y='city');"
      ],
      "metadata": {
        "colab": {
          "base_uri": "https://localhost:8080/",
          "height": 339
        },
        "id": "wO7CKFm9QQfT",
        "outputId": "5c83fcc6-8a6a-4d06-9bdb-c37808891abd"
      },
      "execution_count": 26,
      "outputs": [
        {
          "output_type": "display_data",
          "data": {
            "text/plain": [
              "<Figure size 2160x360 with 1 Axes>"
            ],
            "image/png": "[encoded data removed]"
          },
          "metadata": {}
        }
      ]
    },
    {
      "cell_type": "code",
      "source": [
        "big_df2 = big_df.query('rooms_cnt < 20')\n",
        "sns.boxplot(data=big_df2, x='rooms_cnt', y='city');"
      ],
      "metadata": {
        "colab": {
          "base_uri": "https://localhost:8080/",
          "height": 339
        },
        "id": "vgsojf6oWwq5",
        "outputId": "0fddcf3d-8d57-480c-97e3-587434e16ae7"
      },
      "execution_count": 28,
      "outputs": [
        {
          "output_type": "display_data",
          "data": {
            "text/plain": [
              "<Figure size 2160x360 with 1 Axes>"
            ],
            "image/png": "[encoded data removed]"
          },
          "metadata": {}
        }
      ]
    },
    {
      "cell_type": "markdown",
      "source": [
        "# Majority of hosts in New York have only one room for rent, and majority of hosts in Shanghai have 1 to 3 rooms for rent."
      ],
      "metadata": {
        "id": "wZKkUA5RXcMp"
      }
    },
    {
      "cell_type": "code",
      "source": [
        "df_dict['ny']['host_id'].value_counts()"
      ],
      "metadata": {
        "colab": {
          "base_uri": "https://localhost:8080/"
        },
        "id": "i_a7scHOTy7X",
        "outputId": "4ba0811d-d108-42bd-9ffd-b222b08ad9c7"
      },
      "execution_count": 21,
      "outputs": [
        {
          "output_type": "execute_result",
          "data": {
            "text/plain": [
              "305240193    421\n",
              "107434423    308\n",
              "158969505    201\n",
              "3223938      180\n",
              "51501835     177\n",
              "            ... \n",
              "52183380       1\n",
              "96978953       1\n",
              "48107620       1\n",
              "96159925       1\n",
              "60105727       1\n",
              "Name: host_id, Length: 25904, dtype: int64"
            ]
          },
          "metadata": {},
          "execution_count": 21
        }
      ]
    },
    {
      "cell_type": "code",
      "source": [
        "df_dict['sh']['host_id'].value_counts()"
      ],
      "metadata": {
        "colab": {
          "base_uri": "https://localhost:8080/"
        },
        "id": "RKcVUSQ1P1M8",
        "outputId": "ce9ac668-a3f8-4cd2-dd4e-5b6bcf79b97c"
      },
      "execution_count": 9,
      "outputs": [
        {
          "output_type": "execute_result",
          "data": {
            "text/plain": [
              "374505634    275\n",
              "220013819    222\n",
              "235854624    171\n",
              "378929310     90\n",
              "350281522     87\n",
              "            ... \n",
              "301903743      1\n",
              "301845351      1\n",
              "268680452      1\n",
              "301774707      1\n",
              "261651449      1\n",
              "Name: host_id, Length: 7742, dtype: int64"
            ]
          },
          "metadata": {},
          "execution_count": 9
        }
      ]
    },
    {
      "cell_type": "code",
      "source": [
        "vc = df_dict['ny']['host_id'].value_counts()\n",
        "df_dict['ny'][df_dict['ny']['host_id'].isin(vc[vc.isin([2,3])].index)]['room_type'].value_counts(normalize=True)"
      ],
      "metadata": {
        "colab": {
          "base_uri": "https://localhost:8080/"
        },
        "id": "j_XZeCCTflM7",
        "outputId": "c36cd32f-de6c-4389-f091-a0cf643dd882"
      },
      "execution_count": 51,
      "outputs": [
        {
          "output_type": "execute_result",
          "data": {
            "text/plain": [
              "Private room       0.537812\n",
              "Entire home/apt    0.440848\n",
              "Shared room        0.019479\n",
              "Hotel room         0.001862\n",
              "Name: room_type, dtype: float64"
            ]
          },
          "metadata": {},
          "execution_count": 51
        }
      ]
    },
    {
      "cell_type": "markdown",
      "source": [
        "In New York city, majority of room_type of hosts who rent 2-3 rooms is private room"
      ],
      "metadata": {
        "id": "4ZprkJssgJCP"
      }
    },
    {
      "cell_type": "code",
      "source": [
        "vc = df_dict['sh']['host_id'].value_counts()\n",
        "df_dict['sh'][df_dict['sh']['host_id'].isin(vc[vc.isin([2,3])].index)]['room_type'].value_counts(normalize=True)"
      ],
      "metadata": {
        "colab": {
          "base_uri": "https://localhost:8080/"
        },
        "id": "iW4Av6X1YG_2",
        "outputId": "14159c7d-3a99-42cc-edb9-f3631f20a5d4"
      },
      "execution_count": 52,
      "outputs": [
        {
          "output_type": "execute_result",
          "data": {
            "text/plain": [
              "Entire home/apt    0.589237\n",
              "Private room       0.378853\n",
              "Shared room        0.031909\n",
              "Name: room_type, dtype: float64"
            ]
          },
          "metadata": {},
          "execution_count": 52
        }
      ]
    },
    {
      "cell_type": "markdown",
      "source": [
        "In Shanghai, majority of room_type of hosts who rent 2-3 rooms is entire home/apt"
      ],
      "metadata": {
        "id": "5nohP4UtfuPE"
      }
    },
    {
      "cell_type": "code",
      "source": [
        "vc = df_dict['ny']['host_id'].value_counts()\n",
        "\n",
        "x = df_dict['ny'][df_dict['ny']['host_id'].isin(vc[vc.isin([2,3])].index)].groupby('host_id')['neighbourhood'].nunique()\n",
        "x.value_counts(normalize=True)"
      ],
      "metadata": {
        "colab": {
          "base_uri": "https://localhost:8080/"
        },
        "id": "I-uthdA2gvKE",
        "outputId": "db8f3176-fb11-4709-cd97-f3df76feb074"
      },
      "execution_count": 54,
      "outputs": [
        {
          "output_type": "execute_result",
          "data": {
            "text/plain": [
              "1    0.818327\n",
              "2    0.173021\n",
              "3    0.008651\n",
              "Name: neighbourhood, dtype: float64"
            ]
          },
          "metadata": {},
          "execution_count": 54
        }
      ]
    },
    {
      "cell_type": "code",
      "source": [
        "vc = df_dict['sh']['host_id'].value_counts()\n",
        "\n",
        "x = df_dict['sh'][df_dict['sh']['host_id'].isin(vc[vc.isin([2,3])].index)].groupby('host_id')['neighbourhood'].nunique()\n",
        "x.value_counts(normalize=True)"
      ],
      "metadata": {
        "colab": {
          "base_uri": "https://localhost:8080/"
        },
        "id": "F9hKZmusYlDY",
        "outputId": "e42fec48-8c97-4dc2-8f6b-9d553f2d504b"
      },
      "execution_count": 53,
      "outputs": [
        {
          "output_type": "execute_result",
          "data": {
            "text/plain": [
              "1    0.813924\n",
              "2    0.172785\n",
              "3    0.013291\n",
              "Name: neighbourhood, dtype: float64"
            ]
          },
          "metadata": {},
          "execution_count": 53
        }
      ]
    },
    {
      "cell_type": "markdown",
      "source": [
        "No matter in New York city or Shanghai, the majority of rooms of hosts with 2-3 rooms for rent are located in the same neighbourhood."
      ],
      "metadata": {
        "id": "ch5ikcYQgs8j"
      }
    },
    {
      "cell_type": "code",
      "source": [
        ""
      ],
      "metadata": {
        "id": "4vGotQ9td_Ft"
      },
      "execution_count": null,
      "outputs": []
    }
  ]
}