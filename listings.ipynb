{
  "nbformat": 4,
  "nbformat_minor": 0,
  "metadata": {
    "colab": {
      "name": "listings.ipynb",
      "provenance": [],
      "authorship_tag": "ABX9TyPzhrcFEe4fRKOfC4cL0Wr3",
      "include_colab_link": true
    },
    "kernelspec": {
      "name": "python3",
      "display_name": "Python 3"
    },
    "language_info": {
      "name": "python"
    }
  },
  "cells": [
    {
      "cell_type": "markdown",
      "metadata": {
        "id": "view-in-github",
        "colab_type": "text"
      },
      "source": [
        "<a href=\"https://colab.research.google.com/github/anqi-guo/udacity-dsnd-blog-post/blob/main/listings.ipynb\" target=\"_parent\"><img src=\"https://colab.research.google.com/assets/colab-badge.svg\" alt=\"Open In Colab\"/></a>"
      ]
    },
    {
      "cell_type": "code",
      "source": [
        "from google.colab import drive\n",
        "drive.mount('/content/drive')\n",
        "DATA_PATH = '/content/drive/My Drive/study/DSND/airbnb'"
      ],
      "metadata": {
        "colab": {
          "base_uri": "https://localhost:8080/"
        },
        "id": "axkxILTZn9_t",
        "outputId": "772d5dc6-a44c-464d-d48b-69a3ea5e902a"
      },
      "execution_count": 1,
      "outputs": [
        {
          "output_type": "stream",
          "name": "stdout",
          "text": [
            "Mounted at /content/drive\n"
          ]
        }
      ]
    },
    {
      "cell_type": "code",
      "execution_count": null,
      "metadata": {
        "id": "nH8E9vLtn2Hd"
      },
      "outputs": [],
      "source": [
        "import pandas as pd\n",
        "df_ny = pd.read_csv(f'{DATA_PATH}/data/listings-202112.csv')\n",
        "df_sh = pd.read_csv(f'{DATA_PATH}/data/listings-202112-sh.csv')"
      ]
    }
  ]
}