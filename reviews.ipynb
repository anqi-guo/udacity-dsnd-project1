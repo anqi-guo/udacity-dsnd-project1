{
  "nbformat": 4,
  "nbformat_minor": 0,
  "metadata": {
    "colab": {
      "name": "reviews.ipynb",
      "provenance": [],
      "authorship_tag": "ABX9TyOeSegYX+whMmOBU5PCYGF2",
      "include_colab_link": true
    },
    "kernelspec": {
      "name": "python3",
      "display_name": "Python 3"
    },
    "language_info": {
      "name": "python"
    }
  },
  "cells": [
    {
      "cell_type": "markdown",
      "metadata": {
        "id": "view-in-github",
        "colab_type": "text"
      },
      "source": [
        "<a href=\"https://colab.research.google.com/github/anqi-guo/udacity-dsnd-blog-post/blob/main/reviews.ipynb\" target=\"_parent\"><img src=\"https://colab.research.google.com/assets/colab-badge.svg\" alt=\"Open In Colab\"/></a>"
      ]
    },
    {
      "cell_type": "code",
      "execution_count": null,
      "metadata": {
        "id": "-ZIjJPjMoWwX"
      },
      "outputs": [],
      "source": [
        "from google.colab import drive\n",
        "drive.mount('/content/drive')\n",
        "DATA_PATH = '/content/drive/My Drive/study/DSND/airbnb'"
      ]
    },
    {
      "cell_type": "code",
      "source": [
        "import pandas as pd\n",
        "df_ny = pd.read_csv(f'{DATA_PATH}/data/reviews-202112.csv')\n",
        "df_sh = pd.read_csv(f'{DATA_PATH}/data/reviews-202112-sh.csv')"
      ],
      "metadata": {
        "id": "EG9DeCcUoaF5"
      },
      "execution_count": null,
      "outputs": []
    }
  ]
}